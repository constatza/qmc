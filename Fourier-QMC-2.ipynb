{
 "cells": [
  {
   "cell_type": "markdown",
   "id": "3df800a1-0989-4d73-8812-e59dcff4a6cf",
   "metadata": {},
   "source": [
    "$$ E[f(x)] = \\int_x f(x) p(x) dx \\approx \\sum_x f(x) p(x)$$\n",
    "\n",
    "$$ f(x) = c + \\sum_n^\\infty a_n cos(n\\omega x) + \\sum_n^\\infty b_n sin(n\\omega x)$$\n",
    "\n",
    "\n",
    "$$ E[f(x)] \\approx c + \\sum_n^\\infty a_n \\left( \\sum_x p(x) cos(n \\omega x) \\right) + \\sum_n^\\infty b_n \\left( \\sum_x p(x) sin(n \\omega x) \\right)$$\n",
    "\n",
    "Notice: p(x) is the *discretized, normalized* pdf encoded in register's amplitudes, *not* the theoretical pdf."
   ]
  },
  {
   "cell_type": "code",
   "execution_count": 1,
   "id": "255c44b5-f519-4793-b6bc-41ed6b16621f",
   "metadata": {},
   "outputs": [],
   "source": [
    "# Useful additional packages \n",
    "import numpy as np\n",
    "import scipy.stats as stats\n",
    "import matplotlib.pyplot as plt\n"
   ]
  },
  {
   "cell_type": "code",
   "execution_count": 2,
   "id": "1a34d978-2499-4334-a104-1c192e23e2cb",
   "metadata": {},
   "outputs": [],
   "source": [
    "from qiskit import QuantumCircuit, ClassicalRegister, QuantumRegister, transpile\n",
    "from qiskit.circuit import AncillaRegister, Parameter\n",
    "from qiskit.algorithms import IterativeAmplitudeEstimation, EstimationProblem\n",
    "from qiskit.tools.visualization import circuit_drawer\n",
    "from qiskit.quantum_info import state_fidelity\n",
    "from qiskit import Aer\n",
    "from qiskit.utils import QuantumInstance\n",
    "from fourier import *\n",
    "backend = Aer.get_backend('aer_simulator')\n"
   ]
  },
  {
   "cell_type": "markdown",
   "id": "be61fe89-1013-4500-af02-63fa2baccda1",
   "metadata": {
    "tags": []
   },
   "source": [
    "# Fourier parameters"
   ]
  },
  {
   "cell_type": "markdown",
   "id": "d1b05aa3-21d8-462d-99b4-31ae422181e2",
   "metadata": {
    "tags": []
   },
   "source": [
    "# Initialize pdf"
   ]
  },
  {
   "cell_type": "code",
   "execution_count": 3,
   "id": "39ebd50f-aee9-4b56-9cb2-24a9dceaaf84",
   "metadata": {},
   "outputs": [
    {
     "data": {
      "text/plain": [
       "<StemContainer object of 3 artists>"
      ]
     },
     "execution_count": 3,
     "metadata": {},
     "output_type": "execute_result"
    },
    {
     "data": {
      "image/png": "[encoded data removed]",
      "text/plain": [
       "<Figure size 432x288 with 1 Axes>"
      ]
     },
     "metadata": {
      "needs_background": "light"
     },
     "output_type": "display_data"
    }
   ],
   "source": [
    "num_fourier=10\n",
    "num_qubits = 3\n",
    "xlower = -3\n",
    "xupper = 3\n",
    "xupper_extension = 0.5*(3*xupper - xlower) \n",
    "distribution = stats.uniform(xlower, xupper-xlower)\n",
    "# distribution = stats.norm(1, 1)\n",
    "num_points = 2**num_qubits\n",
    "x_piecewise = [xlower, xupper, xupper_extension]\n",
    "pdf_domain_points = np.linspace(x_piecewise[0], x_piecewise[1], 2**num_qubits)\n",
    "pdf = distribution.pdf(pdf_domain_points)\n",
    "xpoints = np.linspace(xlower, xupper, num_points) \n",
    "plt.stem(xpoints, pdf)"
   ]
  },
  {
   "cell_type": "markdown",
   "id": "058c9a4c-05c1-4f16-b9be-c95d14337eb2",
   "metadata": {},
   "source": [
    "## Define extended F(x)"
   ]
  },
  {
   "cell_type": "code",
   "execution_count": 4,
   "id": "5b561c23-8b76-4668-a97c-2e31af81be71",
   "metadata": {},
   "outputs": [
    {
     "data": {
      "text/plain": [
       "array([594.          +0.j        , 151.70872481+297.51486975j,\n",
       "       -33.35425474 +30.03349404j,  -8.56480493  -4.60063198j,\n",
       "        -6.55568903  +0.65197719j, -10.13714602  -2.46190562j,\n",
       "        -8.09223174  -4.75705769j,  -7.63722179  -4.08158576j,\n",
       "        -8.12281859  -4.96669614j,  -7.32323453  -5.77037279j,\n",
       "        -6.96928462  -5.79347954j])"
      ]
     },
     "execution_count": 4,
     "metadata": {},
     "output_type": "execute_result"
    },
    {
     "data": {
      "image/png": "[encoded data removed]",
      "text/plain": [
       "<Figure size 432x288 with 1 Axes>"
      ]
     },
     "metadata": {
      "needs_background": "light"
     },
     "output_type": "display_data"
    }
   ],
   "source": [
    "func = lambda x: x**2\n",
    "def recast(array):\n",
    "    array[0] += array[-1]\n",
    "    array[0] /= 2\n",
    "    array[-1] = 0\n",
    "    return array\n",
    "\n",
    "func_derivative = lambda x: 2*x\n",
    "\n",
    "x = np.linspace(xlower, xupper_extension, 100, endpoint=True) \n",
    "\n",
    "Func = periodic_extension(func, func_derivative, xlower, xupper, xupper_extension)\n",
    "coeffs = fft_coeffs(recast(Func(x)), 10)\n",
    "\n",
    "\n",
    "plt.plot(x, Func(x))\n",
    "coeffs"
   ]
  },
  {
   "cell_type": "code",
   "execution_count": 15,
   "id": "50f67fda-5544-4c58-bb47-2f483641fbc4",
   "metadata": {},
   "outputs": [],
   "source": [
    "def integral(qc, n, beta, omega, delta, xlower, epsilon=0.01):\n",
    "    alpha = n*omega*xlower - beta\n",
    "    theta = n*omega * delta\n",
    "    backend = Aer.get_backend('aer_simulator')\n",
    "    phase_good = amplitude_estimation(qc, alpha, theta, epsilon=epsilon, conf_lvl=0.05, backend=backend) \n",
    "    return 1 - 2* phase_good\n",
    "\n",
    "def sum_estimation(pdf, fourier_coeffs, x_piecewise, epsilon=0.01):\n",
    "    num_points = pdf.shape[0]\n",
    "    xlower, xupper, xupper_extension = x_piecewise\n",
    "    period = xupper_extension- xlower\n",
    "    omega = 2*np.pi /period\n",
    "    delta = (xupper-xlower)/(num_points - 1)\n",
    "    print(omega, delta)\n",
    "    pdf_normalized = pdf/pdf.sum()\n",
    "    pdf_amplitudes = np.sqrt(pdf_normalized)\n",
    "    qc = create_cirquit(pdf_amplitudes)\n",
    "\n",
    "    num_fourier = fourier_coeffs.shape[0]-1\n",
    "    for n in range(1, num_fourier):\n",
    "        cos_sum = integral(qc, n, 0, omega, delta, xlower, epsilon=epsilon)\n",
    "        sin_sum = integral(qc, n, np.pi/2, omega, delta, xlower, epsilon=epsilon)\n",
    "        fourier_coeffs.real[n] *= cos_sum\n",
    "        fourier_coeffs.imag[n] *= sin_sum\n",
    "        \n",
    "    s = np.fft.irfft(fourier_coeffs, 100)\n",
    "\n",
    "    return s\n",
    "\n",
    "\n",
    "def plot_fourier(fourier_coeffs, x):\n",
    "    fig, ax = plt.subplots(figsize=(10, 5))\n",
    "    y = np.fft.irfft(fourier_coeffs, len(x))#*len(x)\n",
    "    ax.plot(x, y)\n",
    "    return ax"
   ]
  },
  {
   "cell_type": "code",
   "execution_count": 20,
   "id": "503be09f-2fea-4e33-84b7-2052202426e6",
   "metadata": {},
   "outputs": [
    {
     "name": "stdout",
     "output_type": "stream",
     "text": [
      "0.6981317007977318 0.8571428571428571\n"
     ]
    },
    {
     "data": {
      "text/plain": [
       "[<matplotlib.lines.Line2D at 0x7f18fb85bfd0>]"
      ]
     },
     "execution_count": 20,
     "metadata": {},
     "output_type": "execute_result"
    },
    {
     "data": {
      "image/png": "[encoded data removed]",
      "text/plain": [
       "<Figure size 432x288 with 1 Axes>"
      ]
     },
     "metadata": {
      "needs_background": "light"
     },
     "output_type": "display_data"
    }
   ],
   "source": [
    "\n",
    "expected_value_quantum = sum_estimation(pdf, coeffs, x_piecewise, epsilon=0.01)\n",
    "fig, ax = plt.subplots()\n",
    "x = np.arange(100)\n",
    "ax.plot(expected_value_quantum)\n",
    "ax.plot(np.cos(0.698*0.85*x))"
   ]
  },
  {
   "cell_type": "markdown",
   "id": "337d4d36-c8c4-4a66-bdcf-5344ac2f8a2c",
   "metadata": {},
   "source": [
    "## Classical MCI"
   ]
  },
  {
   "cell_type": "code",
   "execution_count": 7,
   "id": "11c1b549-c420-4562-a709-64736f584472",
   "metadata": {},
   "outputs": [
    {
     "data": {
      "text/plain": [
       "3.000371017721837"
      ]
     },
     "execution_count": 7,
     "metadata": {},
     "output_type": "execute_result"
    }
   ],
   "source": [
    "num_samples = 10000000\n",
    "samples = distribution.rvs(size=num_samples)\n",
    "expected_value_classical = func(samples).sum()/num_samples\n",
    "expected_value_classical "
   ]
  },
  {
   "cell_type": "code",
   "execution_count": 8,
   "id": "16997f0a-d0af-450e-a03b-37e75780f22e",
   "metadata": {},
   "outputs": [
    {
     "data": {
      "text/plain": [
       "3.0"
      ]
     },
     "execution_count": 8,
     "metadata": {},
     "output_type": "execute_result"
    }
   ],
   "source": [
    "(xupper-xlower)**2/12"
   ]
  },
  {
   "cell_type": "code",
   "execution_count": 9,
   "id": "02c0cd06-f346-4fca-b3a6-26260ed4fafd",
   "metadata": {},
   "outputs": [
    {
     "data": {
      "text/plain": [
       "[<matplotlib.lines.Line2D at 0x7f18fc4293a0>]"
      ]
     },
     "execution_count": 9,
     "metadata": {},
     "output_type": "execute_result"
    },
    {
     "data": {
      "image/png": "[encoded data removed]",
      "text/plain": [
       "<Figure size 720x360 with 1 Axes>"
      ]
     },
     "metadata": {
      "needs_background": "light"
     },
     "output_type": "display_data"
    }
   ],
   "source": [
    "coeffs = fft_coeffs(Func(x), 2)\n",
    "coeffs\n",
    "ax = plot_fourier(coeffs, x)\n",
    "ax.plot(x, Func(x))"
   ]
  },
  {
   "cell_type": "code",
   "execution_count": 10,
   "id": "69c40a09-26c3-4f4c-9196-b6904388f05c",
   "metadata": {},
   "outputs": [
    {
     "data": {
      "text/plain": [
       "array([603.          +0.j        , 160.69096537+298.07998443j,\n",
       "       -24.42522242 +31.16149314j])"
      ]
     },
     "execution_count": 10,
     "metadata": {},
     "output_type": "execute_result"
    }
   ],
   "source": [
    "coeffs"
   ]
  },
  {
   "cell_type": "code",
   "execution_count": null,
   "id": "0afd1267-1546-472c-b742-ca64da89f11c",
   "metadata": {},
   "outputs": [],
   "source": []
  }
 ],
 "metadata": {
  "kernelspec": {
   "display_name": "quantum",
   "language": "python",
   "name": "quantum"
  },
  "language_info": {
   "codemirror_mode": {
    "name": "ipython",
    "version": 3
   },
   "file_extension": ".py",
   "mimetype": "text/x-python",
   "name": "python",
   "nbconvert_exporter": "python",
   "pygments_lexer": "ipython3",
   "version": "3.9.7"
  }
 },
 "nbformat": 4,
 "nbformat_minor": 5
}
