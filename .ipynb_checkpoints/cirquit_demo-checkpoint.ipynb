{
 "cells": [
  {
   "cell_type": "markdown",
   "id": "63e89d95-5a11-46ad-8089-721bf9a2302a",
   "metadata": {},
   "source": [
    "# Quantum Monte Carlo"
   ]
  },
  {
   "cell_type": "markdown",
   "id": "83365975-b221-4014-8f90-716cfd81cb33",
   "metadata": {},
   "source": [
    "$$ E[f(x)] = \\int_x f(x) p(x) dx \\approx \\sum_x f(x) p(x)$$\n",
    "\n",
    "$$ f(x) = c + \\sum_n^\\infty a_n cos(n\\omega x) + \\sum_n^\\infty b_n sin(n\\omega x)$$\n",
    "\n",
    "\n",
    "$$ E[f(x)] \\approx c + \\sum_n^\\infty a_n \\left( \\sum_x p(x) cos(n \\omega x) \\right) + \\sum_n^\\infty b_n \\left( \\sum_x p(x) sin(n \\omega x) \\right) $$"
   ]
  },
  {
   "cell_type": "code",
   "execution_count": 1,
   "id": "cb0faff2-616f-46c8-9982-6146ee3fc7b0",
   "metadata": {},
   "outputs": [
    {
     "ename": "ModuleNotFoundError",
     "evalue": "No module named 'numpy'",
     "output_type": "error",
     "traceback": [
      "\u001b[0;31m---------------------------------------------------------------------------\u001b[0m",
      "\u001b[0;31mModuleNotFoundError\u001b[0m                       Traceback (most recent call last)",
      "\u001b[0;32m/tmp/ipykernel_18615/358496253.py\u001b[0m in \u001b[0;36m<module>\u001b[0;34m\u001b[0m\n\u001b[1;32m      1\u001b[0m \u001b[0;31m# Useful additional packages\u001b[0m\u001b[0;34m\u001b[0m\u001b[0;34m\u001b[0m\u001b[0m\n\u001b[0;32m----> 2\u001b[0;31m \u001b[0;32mimport\u001b[0m \u001b[0mnumpy\u001b[0m \u001b[0;32mas\u001b[0m \u001b[0mnp\u001b[0m\u001b[0;34m\u001b[0m\u001b[0;34m\u001b[0m\u001b[0m\n\u001b[0m\u001b[1;32m      3\u001b[0m \u001b[0;32mimport\u001b[0m \u001b[0mscipy\u001b[0m\u001b[0;34m.\u001b[0m\u001b[0mstats\u001b[0m \u001b[0;32mas\u001b[0m \u001b[0mstats\u001b[0m\u001b[0;34m\u001b[0m\u001b[0;34m\u001b[0m\u001b[0m\n\u001b[1;32m      4\u001b[0m \u001b[0;32mimport\u001b[0m \u001b[0mmatplotlib\u001b[0m\u001b[0;34m.\u001b[0m\u001b[0mpyplot\u001b[0m \u001b[0;32mas\u001b[0m \u001b[0mplt\u001b[0m\u001b[0;34m\u001b[0m\u001b[0;34m\u001b[0m\u001b[0m\n\u001b[1;32m      5\u001b[0m \u001b[0mbackend\u001b[0m \u001b[0;34m=\u001b[0m \u001b[0mAer\u001b[0m\u001b[0;34m.\u001b[0m\u001b[0mget_backend\u001b[0m\u001b[0;34m(\u001b[0m\u001b[0;34m'aer_simulator'\u001b[0m\u001b[0;34m)\u001b[0m\u001b[0;34m\u001b[0m\u001b[0;34m\u001b[0m\u001b[0m\n",
      "\u001b[0;31mModuleNotFoundError\u001b[0m: No module named 'numpy'"
     ]
    }
   ],
   "source": [
    "# Useful additional packages \n",
    "import numpy as np\n",
    "import scipy.stats as stats\n",
    "import matplotlib.pyplot as plt"
   ]
  },
  {
   "cell_type": "code",
   "execution_count": 2,
   "id": "3e80bdc2-20f4-42f2-afd1-0467dc8c2823",
   "metadata": {},
   "outputs": [],
   "source": [
    "from qiskit import QuantumCircuit, ClassicalRegister, QuantumRegister, transpile\n",
    "from qiskit.circuit import AncillaRegister, Parameter\n",
    "from qiskit.algorithms import IterativeAmplitudeEstimation, EstimationProblem\n",
    "from qiskit.tools.visualization import circuit_drawer\n",
    "from qiskit.quantum_info import state_fidelity\n",
    "from qiskit import Aer\n",
    "from qiskit.utils import QuantumInstance\n",
    "\n",
    "backend = Aer.get_backend('aer_simulator')"
   ]
  },
  {
   "cell_type": "markdown",
   "id": "c68db7e2-77dd-4fc7-81fd-9a9db0b87f38",
   "metadata": {
    "tags": []
   },
   "source": [
    "# Initialize distribution"
   ]
  },
  {
   "cell_type": "code",
   "execution_count": 3,
   "id": "bc420992-ffcb-4bf3-a5ed-2dfafd6fa768",
   "metadata": {},
   "outputs": [
    {
     "data": {
      "text/plain": [
       "<StemContainer object of 3 artists>"
      ]
     },
     "execution_count": 3,
     "metadata": {},
     "output_type": "execute_result"
    },
    {
     "data": {
      "image/png": "[encoded data removed]",
      "text/plain": [
       "<Figure size 432x288 with 1 Axes>"
      ]
     },
     "metadata": {
      "needs_background": "light"
     },
     "output_type": "display_data"
    }
   ],
   "source": [
    "npoints = 4\n",
    "xlower = -np.pi\n",
    "xupper = +np.pi\n",
    "xpoints = np.linspace(xlower, xupper, 2**npoints) \n",
    "distribution = stats.uniform(xlower, xupper-xlower).pdf(xpoints)\n",
    "# distribution = stats.norm().pdf(xpoints)\n",
    "distribution_normalized = distribution/distribution.sum()\n",
    "distribution_amplitudes = np.sqrt(distribution_normalized)\n",
    "plt.stem(xpoints, distribution)\n"
   ]
  },
  {
   "cell_type": "markdown",
   "id": "cba1d75c-7a1b-458d-8157-1e8fd5d4cfc7",
   "metadata": {},
   "source": [
    "# Fourier parameters"
   ]
  },
  {
   "cell_type": "code",
   "execution_count": 2,
   "id": "0aaff9cd-004f-4c72-8878-e99645ef499c",
   "metadata": {},
   "outputs": [
    {
     "ename": "NameError",
     "evalue": "name 'xupper' is not defined",
     "output_type": "error",
     "traceback": [
      "\u001b[0;31m---------------------------------------------------------------------------\u001b[0m",
      "\u001b[0;31mNameError\u001b[0m                                 Traceback (most recent call last)",
      "\u001b[0;32m/tmp/ipykernel_1771/2534449359.py\u001b[0m in \u001b[0;36m<module>\u001b[0;34m\u001b[0m\n\u001b[1;32m      1\u001b[0m \u001b[0mnfourier\u001b[0m \u001b[0;34m=\u001b[0m \u001b[0;36m1\u001b[0m\u001b[0;34m\u001b[0m\u001b[0;34m\u001b[0m\u001b[0m\n\u001b[0;32m----> 2\u001b[0;31m \u001b[0mperiod\u001b[0m \u001b[0;34m=\u001b[0m \u001b[0mxupper\u001b[0m \u001b[0;34m-\u001b[0m \u001b[0mxlower\u001b[0m\u001b[0;34m\u001b[0m\u001b[0;34m\u001b[0m\u001b[0m\n\u001b[0m\u001b[1;32m      3\u001b[0m \u001b[0momega\u001b[0m \u001b[0;34m=\u001b[0m \u001b[0;36m2\u001b[0m\u001b[0;34m*\u001b[0m\u001b[0mnp\u001b[0m\u001b[0;34m.\u001b[0m\u001b[0mpi\u001b[0m \u001b[0;34m/\u001b[0m\u001b[0mperiod\u001b[0m\u001b[0;34m\u001b[0m\u001b[0;34m\u001b[0m\u001b[0m\n\u001b[1;32m      4\u001b[0m \u001b[0mdelta\u001b[0m \u001b[0;34m=\u001b[0m \u001b[0mperiod\u001b[0m\u001b[0;34m/\u001b[0m\u001b[0mnpoints\u001b[0m\u001b[0;34m\u001b[0m\u001b[0;34m\u001b[0m\u001b[0m\n\u001b[1;32m      5\u001b[0m \u001b[0momega\u001b[0m\u001b[0;34m\u001b[0m\u001b[0;34m\u001b[0m\u001b[0m\n",
      "\u001b[0;31mNameError\u001b[0m: name 'xupper' is not defined"
     ]
    }
   ],
   "source": [
    "nfourier = 1\n",
    "period = xupper - xlower\n",
    "omega = 2*np.pi /period\n",
    "delta = period/npoints\n",
    "omega"
   ]
  },
  {
   "cell_type": "markdown",
   "id": "47245b73-8084-49a0-9af3-560b4a236a67",
   "metadata": {},
   "source": [
    "# Controlled Rotations"
   ]
  },
  {
   "cell_type": "markdown",
   "id": "7b2b548e-b4d8-46ec-a26a-5c160126d8d5",
   "metadata": {},
   "source": [
    "\n",
    "$ \\forall n=1, ..., N$  \n",
    "- $\\theta = \\theta(n) = n \\omega \\Delta$\n",
    "- $\\alpha = \\alpha(n) = n \\omega x_l - \\beta$"
   ]
  },
  {
   "cell_type": "markdown",
   "id": "9069f0ca-48e2-4985-b4ea-288008d2465b",
   "metadata": {},
   "source": [
    "# Circuit"
   ]
  },
  {
   "cell_type": "code",
   "execution_count": 5,
   "id": "cc066d69-b9ec-4db3-aacb-1c6ac332553c",
   "metadata": {
    "tags": []
   },
   "outputs": [
    {
     "data": {
      "image/png": "[encoded data removed]",
      "text/plain": [
       "<Figure size 682.909x325.08 with 1 Axes>"
      ]
     },
     "execution_count": 5,
     "metadata": {},
     "output_type": "execute_result"
    }
   ],
   "source": [
    "alpha = Parameter('a')\n",
    "theta = Parameter('θ')\n",
    "# def create_cirquit():\n",
    "\n",
    "p = QuantumRegister(npoints, name='p')\n",
    "ancilla = QuantumRegister(1, name='ancilla')\n",
    "qc = QuantumCircuit(p, ancilla)\n",
    "qc.initialize(distribution_amplitudes, p)\n",
    "qc.draw('mpl')"
   ]
  },
  {
   "cell_type": "code",
   "execution_count": 6,
   "id": "02792b82-0ca3-48c9-b04f-8f7b7f70db67",
   "metadata": {
    "tags": []
   },
   "outputs": [
    {
     "name": "stderr",
     "output_type": "stream",
     "text": [
      "/home/archer/.python-envs/quantum/lib/python3.9/site-packages/sympy/core/expr.py:3949: SymPyDeprecationWarning: \n",
      "\n",
      "expr_free_symbols method has been deprecated since SymPy 1.9. See\n",
      "https://github.com/sympy/sympy/issues/21494 for more info.\n",
      "\n",
      "  SymPyDeprecationWarning(feature=\"expr_free_symbols method\",\n"
     ]
    },
    {
     "data": {
      "image/png": "[encoded data removed]",
      "text/plain": [
       "<Figure size 442.109x325.08 with 1 Axes>"
      ]
     },
     "execution_count": 6,
     "metadata": {},
     "output_type": "execute_result"
    }
   ],
   "source": [
    "crots = QuantumCircuit(p, ancilla, name='CRYs')\n",
    "crots.ry(alpha, ancilla[0])\n",
    "for i, pi in enumerate(p[-1::-1]):\n",
    "    crots.cry(2**i *theta, pi, ancilla[0])\n",
    "\n",
    "qc.append(crots, p[:] + ancilla[:])\n",
    "crots.draw('mpl')"
   ]
  },
  {
   "cell_type": "code",
   "execution_count": 7,
   "id": "2182bd53-b47e-49d2-8c48-af8516fc2144",
   "metadata": {
    "tags": []
   },
   "outputs": [
    {
     "name": "stderr",
     "output_type": "stream",
     "text": [
      "/home/archer/.python-envs/quantum/lib/python3.9/site-packages/sympy/core/expr.py:3949: SymPyDeprecationWarning: \n",
      "\n",
      "expr_free_symbols method has been deprecated since SymPy 1.9. See\n",
      "https://github.com/sympy/sympy/issues/21494 for more info.\n",
      "\n",
      "  SymPyDeprecationWarning(feature=\"expr_free_symbols method\",\n"
     ]
    },
    {
     "data": {
      "image/png": "[encoded data removed]",
      "text/plain": [
       "<Figure size 803.309x325.08 with 1 Axes>"
      ]
     },
     "execution_count": 7,
     "metadata": {},
     "output_type": "execute_result"
    }
   ],
   "source": [
    "backend = Aer.get_backend('statevector_simulator')\n",
    "qc_transpiled = transpile(qc, backend, optimization_level=3)\n",
    "# return qc_transpiled\n",
    "\n",
    "n = 2\n",
    "beta = 0\n",
    "# qc_transpiled = create_cirquit()\n",
    "qc_transpiled.assign_parameters({alpha: n*omega*xlower - beta, \n",
    "                      theta: n*omega * delta},\n",
    "                     inplace=True)\n",
    "qc.draw('mpl')"
   ]
  },
  {
   "cell_type": "markdown",
   "id": "cc30826e-ca26-4271-aefa-c4fc945cd049",
   "metadata": {},
   "source": [
    "# Quantum Amplitude Estimation using IAE"
   ]
  },
  {
   "cell_type": "code",
   "execution_count": 11,
   "id": "bf42c1b6-393a-4e68-9138-ceb082577f94",
   "metadata": {
    "tags": []
   },
   "outputs": [
    {
     "data": {
      "text/plain": [
       "0.00020175130238930805"
      ]
     },
     "execution_count": 11,
     "metadata": {},
     "output_type": "execute_result"
    }
   ],
   "source": [
    "# error and confidence \n",
    "epsilon = 0.001\n",
    "cl = 0.05\n",
    "\n",
    "# construct amplitude estimation\n",
    "\n",
    "problem = EstimationProblem(state_preparation=qc_transpiled,\n",
    "                                       objective_qubits=[npoints-1])\n",
    "\n",
    "IAE = IterativeAmplitudeEstimation(epsilon,  cl, quantum_instance=backend)\n",
    "\n",
    "result = IAE.estimate(problem)\n",
    "phase_good = result.estimation\n",
    "integral = 1 - 2* phase_good\n",
    "integral"
   ]
  }
 ],
 "metadata": {
  "kernelspec": {
   "display_name": "Python 3 (ipykernel)",
   "language": "python",
   "name": "python3"
  },
  "language_info": {
   "codemirror_mode": {
    "name": "ipython",
    "version": 3
   },
   "file_extension": ".py",
   "mimetype": "text/x-python",
   "name": "python",
   "nbconvert_exporter": "python",
   "pygments_lexer": "ipython3",
   "version": "3.9.7"
  }
 },
 "nbformat": 4,
 "nbformat_minor": 5
}
