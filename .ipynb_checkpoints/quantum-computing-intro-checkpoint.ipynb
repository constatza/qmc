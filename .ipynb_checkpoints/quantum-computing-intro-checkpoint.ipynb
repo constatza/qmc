{
 "cells": [
  {
   "cell_type": "markdown",
   "id": "cdc3cd25-d569-424b-ae8c-8560002337a3",
   "metadata": {
    "slideshow": {
     "slide_type": "slide"
    },
    "tags": []
   },
   "source": [
    "# Quantum Computing"
   ]
  },
  {
   "cell_type": "markdown",
   "id": "7cb1687d-794b-4264-bb18-8d9f73bf8f18",
   "metadata": {
    "slideshow": {
     "slide_type": "notes"
    },
    "tags": []
   },
   "source": [
    "$\\newcommand{\\ket}[1]{\\left|{#1}\\right\\rangle}$\n",
    "$\\newcommand{\\bra}[1]{\\left\\langle{#1}\\right|}$\n",
    "$$\\newcommand{\\braket}[2]{\\left\\langle{#1}{#2} \\right\\rangle}$$\n",
    "$\\newcommand{\\zero}[]{\\ket{0}}$\n",
    "$\\newcommand{\\one}[]{\\ket{1}}$\n",
    "$$\\newcommand{\\state}[]{\\ket{\\Psi}}$$"
   ]
  },
  {
   "cell_type": "markdown",
   "id": "68953bd3-a975-42c3-acd0-f03614e03217",
   "metadata": {},
   "source": [
    "![timeline](img/quantum-timeline.png)"
   ]
  },
  {
   "cell_type": "markdown",
   "id": "edc55787-81a5-4141-93a3-ebbd4a5d9321",
   "metadata": {
    "slideshow": {
     "slide_type": "subslide"
    },
    "tags": []
   },
   "source": [
    "## Notation\n",
    "![notation](img/dirac-vector.png)"
   ]
  },
  {
   "cell_type": "markdown",
   "id": "e1b67a17-edec-4620-89be-9565d331a155",
   "metadata": {
    "slideshow": {
     "slide_type": "slide"
    },
    "tags": []
   },
   "source": [
    "## Classic Computing\n",
    " 2-state Bit:\n",
    " $$ \\state = \\zero \\text{or} \\one$$\n",
    "\n",
    "## Quantum Computing \n",
    "Infinite-state Qubit is generally in a **Superposition** of 2 (orthogonal) states: \n",
    " $$\\state  = a \\ket{0} + b \\ket{1},$$ where *amplitudes* $a, b \\in \\mathbb{C}$"
   ]
  },
  {
   "cell_type": "markdown",
   "id": "1b9433f6-01cd-40af-9166-231987e922b9",
   "metadata": {
    "slideshow": {
     "slide_type": "subslide"
    },
    "tags": []
   },
   "source": [
    "![Vector](img/vector.png)"
   ]
  },
  {
   "cell_type": "markdown",
   "id": "cda7a8ad-364c-4c46-8f06-2e31631936fc",
   "metadata": {
    "slideshow": {
     "slide_type": "slide"
    },
    "tags": []
   },
   "source": [
    "## Probabilistic nature\n",
    "Quantum mechanical states are normalized $a^2 + b^2 = 1$ or in general \n",
    "$$\\state^2= \\sum_i a_i^2 = 1$$\n",
    "The amplitudes squared can be seen as a pdf over the possible states\n",
    "$$\\state = \\sum_i a_i \\ket{i} = \\sum_i \\sqrt{p_i}\\ket{i}$$"
   ]
  },
  {
   "cell_type": "markdown",
   "id": "cc1a4627-8bd7-41d7-833d-4506826808a8",
   "metadata": {
    "slideshow": {
     "slide_type": "slide"
    },
    "tags": []
   },
   "source": [
    "## Visualization\n",
    "A general single-qubit state can be parametrized with 3 angles\n",
    "$$\\state= e^{i \\gamma} \\left[ cos(\\frac{\\theta}{2}) \\zero+ e^{i\\phi} sin(\\frac{\\theta}{2}) \\one \\right],$$\n",
    "where the global phase $e^{i\\gamma}$ can be ommited bacause it's not observable.\n"
   ]
  },
  {
   "cell_type": "markdown",
   "id": "fcdccd1d-d25f-4b3f-a8fb-fed3b2ae0fef",
   "metadata": {
    "jp-MarkdownHeadingCollapsed": true,
    "slideshow": {
     "slide_type": "subslide"
    },
    "tags": []
   },
   "source": [
    "### Bloch Sphere\n",
    "![Bloch](img/bloch_sphere.png)"
   ]
  },
  {
   "cell_type": "markdown",
   "id": "dd55e686-383f-4f96-8464-a4b5fed9c0d4",
   "metadata": {
    "slideshow": {
     "slide_type": "slide"
    },
    "tags": []
   },
   "source": [
    "## Multiqubit states\n",
    "A state composed of $n$ unentangled(=independent) qubits can be described by their tensor product\n",
    "$$\\state = \\ket{q_1} \\otimes \\ket{q_2} \\otimes ... \\otimes \\ket{q_n}=\\ket{q_1q_2...q_n}$$\n",
    "\n",
    "If n=2 e.g.\n",
    "$$ \\ket{a} \\otimes \\ket{b} = ( a_0 \\zero + a_1 \\one) \\otimes ( b_0 \\zero + b_1 \\one)$$ \n",
    "$$= a_0b_0 \\ket{00} + a_0b_1 \\ket{01} + a_1b_0 \\ket{10} + a_1b_1 \\ket{11}$$ \n",
    " \n"
   ]
  },
  {
   "cell_type": "markdown",
   "id": "a77107b3-7a4c-47ea-b3bd-993c83437911",
   "metadata": {
    "slideshow": {
     "slide_type": "subslide"
    },
    "tags": []
   },
   "source": [
    "## Entanglement\n",
    "If the qubits are entangled(=mutually dependent), they are no longer seperable \n",
    "and state $\\state$ can only be written as a sum over a basis.\n",
    "\n",
    "$$ \\state =  a_0 \\ket{0...00} + a_1 \\ket{0...01} + ... a_{2^n-1} \\ket{1...11}= \\sum_{i=0}^{2^n-1} a_i \\ket{i}$$\n",
    "\n",
    "For n=2 e.g.\n",
    "$$\\state = a_{00} \\ket{00} + a_{01} \\ket{01} + a_{10} \\ket{10} + a_{11} \\ket{11}$$\n",
    "$$= a_0 \\ket{0} + a_1 \\ket{1} + a_2 \\ket{2} + a_3\\ket{3}$$ \n"
   ]
  },
  {
   "cell_type": "markdown",
   "id": "9bcb2282-6232-456b-b24c-a63cce9c6e8f",
   "metadata": {
    "jp-MarkdownHeadingCollapsed": true,
    "slideshow": {
     "slide_type": "slide"
    },
    "tags": []
   },
   "source": [
    "## Operations\n",
    "There are two types of operations used in quantum computing\n",
    "- Computational Basis measurements\n",
    "- Quantum Logic Gates"
   ]
  },
  {
   "cell_type": "markdown",
   "id": "25d34541-53ed-43e3-8a1d-0b7a23ee2bf9",
   "metadata": {
    "slideshow": {
     "slide_type": "slide"
    },
    "tags": []
   },
   "source": [
    "## Measurement\n",
    "- Quantum states are delicate and *cannot* be directly observed\n",
    "- When measured, single-qubit states collapse to classical states, either $\\zero$ or $\\one$\n",
    "- How do we access state information? There are methods e.g. naive sampling, phase estimation etc."
   ]
  },
  {
   "cell_type": "markdown",
   "id": "aa2909d6-fbd9-4689-8cca-117d6129ab0a",
   "metadata": {
    "jp-MarkdownHeadingCollapsed": true,
    "slideshow": {
     "slide_type": "slide"
    },
    "tags": []
   },
   "source": [
    "## Quantum Gates\n",
    "- Basic elements of computation\n",
    "- Generalization of classical logic gates\n",
    "- Quantum gates are unitary tranformations acting on qubit states, $UU^\\dagger = UU^{-1} = \\mathbb{1}$."
   ]
  },
  {
   "cell_type": "markdown",
   "id": "0686d6dc-874a-4e8d-9a62-96cad4530d95",
   "metadata": {
    "slideshow": {
     "slide_type": "subslide"
    },
    "tags": []
   },
   "source": [
    "## Example: NOT gate\n",
    "![not](img/not-gate.png)"
   ]
  },
  {
   "cell_type": "markdown",
   "id": "cad5cf8a-fdcb-4f7f-8dcd-87ab08dccad6",
   "metadata": {
    "jp-MarkdownHeadingCollapsed": true,
    "slideshow": {
     "slide_type": "subslide"
    },
    "tags": []
   },
   "source": [
    "## Single-qubit Gates\n",
    "![some gates](img/qgates.png)"
   ]
  },
  {
   "cell_type": "markdown",
   "id": "de799e33-3031-40cf-9f3d-a4bb60c5b9de",
   "metadata": {
    "slideshow": {
     "slide_type": "subslide"
    },
    "tags": []
   },
   "source": [
    "## Multi-qubit Gates\n",
    "![some gates](img/qgates.png)"
   ]
  },
  {
   "cell_type": "markdown",
   "id": "98a6cf9c-844b-41da-b1e0-a5a9a631d3ea",
   "metadata": {
    "slideshow": {
     "slide_type": "slide"
    },
    "tags": []
   },
   "source": [
    "## Information Encoding\n",
    "![encoding methods](img/encoding.png)"
   ]
  },
  {
   "cell_type": "markdown",
   "id": "80e138ec-2a00-46f7-a0c2-1ee65c0cbdfc",
   "metadata": {
    "slideshow": {
     "slide_type": "slide"
    },
    "tags": []
   },
   "source": [
    "## Cirquits\n",
    "Bell state cirquit, which entagles 2 qubits in the state \n",
    "$\\state = \\frac{1}{\\sqrt{2}} ( \\ket{00} + \\ket{11} )$, using H and CNOT gates.\n",
    "![bell](img/bell-cirquit.png)"
   ]
  },
  {
   "cell_type": "markdown",
   "id": "5fd7c99b-42c5-4ad3-9b12-98421fcec33f",
   "metadata": {
    "slideshow": {
     "slide_type": "subslide"
    },
    "tags": []
   },
   "source": [
    "## Cirquit example\n",
    "![cirquit](img/example-cirquit.jpeg)"
   ]
  },
  {
   "cell_type": "code",
   "execution_count": null,
   "id": "e621b15f-8006-4f9c-adb5-758c56b958a4",
   "metadata": {},
   "outputs": [],
   "source": []
  }
 ],
 "metadata": {
  "kernelspec": {
   "display_name": "Python 3 (ipykernel)",
   "language": "python",
   "name": "python3"
  },
  "language_info": {
   "codemirror_mode": {
    "name": "ipython",
    "version": 3
   },
   "file_extension": ".py",
   "mimetype": "text/x-python",
   "name": "python",
   "nbconvert_exporter": "python",
   "pygments_lexer": "ipython3",
   "version": "3.9.7"
  }
 },
 "nbformat": 4,
 "nbformat_minor": 5
}
