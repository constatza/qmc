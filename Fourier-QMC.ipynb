{
 "cells": [
  {
   "cell_type": "markdown",
   "id": "3df800a1-0989-4d73-8812-e59dcff4a6cf",
   "metadata": {},
   "source": [
    "$$ E[f(x)] = \\int_x f(x) p(x) dx \\approx \\sum_x f(x) p(x)$$\n",
    "\n",
    "$$ f(x) = c + \\sum_n^\\infty a_n cos(n\\omega x) + \\sum_n^\\infty b_n sin(n\\omega x)$$\n",
    "\n",
    "\n",
    "$$ E[f(x)] \\approx c + \\sum_n^\\infty a_n \\left( \\sum_x p(x) cos(n \\omega x) \\right) + \\sum_n^\\infty b_n \\left( \\sum_x p(x) sin(n \\omega x) \\right)$$\n",
    "\n",
    "Notice: p(x) is the *discretized, normalized* distribution encoded in register's amplitudes, *not* the theoretical distribution."
   ]
  },
  {
   "cell_type": "code",
   "execution_count": 1,
   "id": "255c44b5-f519-4793-b6bc-41ed6b16621f",
   "metadata": {},
   "outputs": [],
   "source": [
    "# Useful additional packages \n",
    "import numpy as np\n",
    "import scipy.stats as stats\n",
    "import matplotlib.pyplot as plt\n"
   ]
  },
  {
   "cell_type": "code",
   "execution_count": 11,
   "id": "1a34d978-2499-4334-a104-1c192e23e2cb",
   "metadata": {},
   "outputs": [],
   "source": [
    "from qiskit import QuantumCircuit, ClassicalRegister, QuantumRegister, transpile\n",
    "from qiskit.circuit import AncillaRegister, Parameter\n",
    "from qiskit.algorithms import IterativeAmplitudeEstimation, EstimationProblem\n",
    "from qiskit.tools.visualization import circuit_drawer\n",
    "from qiskit.quantum_info import state_fidelity\n",
    "from qiskit import Aer, execute\n",
    "backend = Aer.get_backend('aer_simulator')\n",
    "\n"
   ]
  },
  {
   "cell_type": "markdown",
   "id": "d1b05aa3-21d8-462d-99b4-31ae422181e2",
   "metadata": {
    "tags": []
   },
   "source": [
    "# Initialize distribution"
   ]
  },
  {
   "cell_type": "code",
   "execution_count": 3,
   "id": "49c0f374-b510-44e8-ab82-d4c289de739e",
   "metadata": {},
   "outputs": [
    {
     "data": {
      "text/plain": [
       "<StemContainer object of 3 artists>"
      ]
     },
     "execution_count": 3,
     "metadata": {},
     "output_type": "execute_result"
    },
    {
     "data": {
      "image/png": "[encoded data removed]",
      "text/plain": [
       "<Figure size 432x288 with 1 Axes>"
      ]
     },
     "metadata": {
      "needs_background": "light"
     },
     "output_type": "display_data"
    }
   ],
   "source": [
    "nqubits = 3\n",
    "npoints = 2**nqubits\n",
    "xlower = -1\n",
    "xupper = 1\n",
    "xuu = 2\n",
    "xpoints = np.linspace(xlower, xupper, npoints) \n",
    "distribution = stats.uniform(xlower, xupper-xlower).pdf(xpoints)\n",
    "# distribution = stats.norm().pdf(xpoints)\n",
    "distribution_normalized = distribution/distribution.sum()\n",
    "distribution_amplitudes = np.sqrt(distribution_normalized)\n",
    "plt.stem(xpoints, distribution_normalized)"
   ]
  },
  {
   "cell_type": "markdown",
   "id": "be61fe89-1013-4500-af02-63fa2baccda1",
   "metadata": {
    "tags": []
   },
   "source": [
    "# Fourier parameters"
   ]
  },
  {
   "cell_type": "code",
   "execution_count": 17,
   "id": "e6a2644b-7f08-436b-bf0e-91bcc5f6064e",
   "metadata": {},
   "outputs": [],
   "source": [
    "from fourier import *\n",
    "qc = create_cirquit(distribution_amplitudes)\n",
    "\n",
    "# def amplitude_estimation(qc, alpha, theta, epsilon=.01, conf_lvl=.05, backend=backend):\n",
    "#     # # Quantum Amplitude Estimation using IAE\n",
    "#     par_alpha = qc.parameters[0]\n",
    "#     par_theta = qc.parameters[1]\n",
    "#     qcn = qc.assign_parameters({par_alpha: alpha, \n",
    "#                           par_theta: theta})\n",
    "\n",
    "\n",
    "#     # construct amplitude estimation\n",
    "#     ancilla_qubit = qcn.num_qubits-1\n",
    "#     problem = EstimationProblem(state_preparation=qcn,\n",
    "#                                            objective_qubits=[ancilla_qubit])\n",
    "\n",
    "#     IAE = IterativeAmplitudeEstimation(epsilon_target=epsilon,  alpha=conf_lvl, quantum_instance=backend)\n",
    "\n",
    "#     # result_cvar = IAE.estimate(problem)\n",
    "#     qcn = IAE.construct_circuit(problem, k=3, measurement=True)\n",
    "#     # counts = backend.run(qcn, shots=1).result().get_counts()\n",
    "\n",
    "#     return qcn\n",
    "\n",
    "\n",
    "# qc = amplitude_estimation(qc, 0.1, 0.5, backend=backend)\n",
    "# qc.draw('mpl')\n",
    "\n",
    "# # Execute the circuit on the qasm\n",
    "# # simulator\n",
    "# job = execute(qc, backend, shots=10000000)\n",
    "   \n",
    "# # Grab results from the job\n",
    "# result = job.result()\n",
    "   \n",
    "# # Return counts\n",
    "# counts = result.get_counts(qc)\n",
    "# print(\"\\nTotal count for 00 and 11 are:\",counts)\n",
    "  \n",
    "# backend.run(qc, shots=1)"
   ]
  },
  {
   "cell_type": "code",
   "execution_count": 5,
   "id": "50f67fda-5544-4c58-bb47-2f483641fbc4",
   "metadata": {},
   "outputs": [],
   "source": [
    "def integral(qc, n, beta, omega, delta, xlower, epsilon=0.01):\n",
    "    alpha = n*omega*xlower - beta\n",
    "    theta = n*omega * delta\n",
    "    backend = Aer.get_backend('aer_simulator')\n",
    "    phase_good = amplitude_estimation(qc, alpha, theta, epsilon=epsilon, conf_lvl=0.05, backend=backend) \n",
    "    return 1 - 2* phase_good\n",
    "\n",
    "def sum_estimation(y, distribution, nfourier, xpoints):\n",
    "    distribution = distribution(xpoints)\n",
    "    distribution_normalized = distribution/distribution.sum()\n",
    "    distribution_amplitudes = np.sqrt(distribution_normalized)\n",
    "    qc = create_cirquit(distribution_amplitudes)\n",
    "    period = xpoints[-1] - xpoints[0]\n",
    "    omega = 2*np.pi /period\n",
    "    delta = period/(npoints-1)\n",
    "    a0, a, b = real_coeffs(y, nfourier)\n",
    "    s = a0/2\n",
    "    for n in range(nfourier-1):\n",
    "        cos_sum = integral(qc, n, 0, omega, delta, x[0])\n",
    "        sin_sum = integral(qc, n, np.pi/2, omega, delta, x[0])\n",
    "        s += a[n]*cos_sum + b[n]*sin_sum\n",
    "    return s\n",
    "\n",
    "def classical_estimation(y, distribution, nfourier, xpoints):\n",
    "    period = xpoints[-1] - xpoints[0]\n",
    "    omega = 2*np.pi /period\n",
    "    delta = period/(npoints-1)\n",
    "    distribution = distribution(xpoints)\n",
    "    distribution_normalized = distribution/distribution.sum()\n",
    "    cos_sum = lambda n: np.sum( np.cos(n*omega*xpoints) * distribution_normalized)\n",
    "    sin_sum = lambda n: np.sum( np.sin(n*omega*xpoints) * distribution_normalized)\n",
    "    a0, a, b = real_coeffs(y, nfourier)\n",
    "    s = a0/2\n",
    "    func = np.zeros_like(y) + a0/2\n",
    "    for n in range(nfourier-1):\n",
    "        s += a[n]*cos_sum(n) + b[n]*sin_sum(n)\n",
    "        phase = n*omega*x\n",
    "        func += a[n] * np.cos(phase) + b[n]*np.sin(phase)\n",
    "    return s\n",
    "    \n",
    "    \n",
    "\n"
   ]
  },
  {
   "cell_type": "code",
   "execution_count": 6,
   "id": "1eedfe6d-16f0-4eb5-9443-8f3a0ab58a73",
   "metadata": {},
   "outputs": [
    {
     "ename": "NameError",
     "evalue": "name 'real_coeffs' is not defined",
     "output_type": "error",
     "traceback": [
      "\u001b[0;31m---------------------------------------------------------------------------\u001b[0m",
      "\u001b[0;31mNameError\u001b[0m                                 Traceback (most recent call last)",
      "\u001b[0;32m/tmp/ipykernel_18874/1210157920.py\u001b[0m in \u001b[0;36m<module>\u001b[0;34m\u001b[0m\n\u001b[1;32m     13\u001b[0m \u001b[0my\u001b[0m \u001b[0;34m=\u001b[0m \u001b[0mx\u001b[0m\u001b[0;34m\u001b[0m\u001b[0;34m\u001b[0m\u001b[0m\n\u001b[1;32m     14\u001b[0m \u001b[0;34m\u001b[0m\u001b[0m\n\u001b[0;32m---> 15\u001b[0;31m \u001b[0ms1\u001b[0m \u001b[0;34m=\u001b[0m \u001b[0mclassical_estimation\u001b[0m\u001b[0;34m(\u001b[0m\u001b[0my\u001b[0m\u001b[0;34m,\u001b[0m \u001b[0mdistribution\u001b[0m\u001b[0;34m,\u001b[0m \u001b[0mnfourier\u001b[0m\u001b[0;34m,\u001b[0m \u001b[0mxpoints\u001b[0m\u001b[0;34m)\u001b[0m\u001b[0;34m\u001b[0m\u001b[0;34m\u001b[0m\u001b[0m\n\u001b[0m\u001b[1;32m     16\u001b[0m \u001b[0mprint\u001b[0m\u001b[0;34m(\u001b[0m\u001b[0;34m'-----'\u001b[0m\u001b[0;34m)\u001b[0m\u001b[0;34m\u001b[0m\u001b[0;34m\u001b[0m\u001b[0m\n\u001b[1;32m     17\u001b[0m \u001b[0ms2\u001b[0m \u001b[0;34m=\u001b[0m \u001b[0msum_estimation\u001b[0m\u001b[0;34m(\u001b[0m\u001b[0my\u001b[0m\u001b[0;34m,\u001b[0m \u001b[0mdistribution\u001b[0m\u001b[0;34m,\u001b[0m \u001b[0mnfourier\u001b[0m\u001b[0;34m,\u001b[0m \u001b[0mxpoints\u001b[0m\u001b[0;34m)\u001b[0m\u001b[0;34m\u001b[0m\u001b[0;34m\u001b[0m\u001b[0m\n",
      "\u001b[0;32m/tmp/ipykernel_18874/3863378210.py\u001b[0m in \u001b[0;36mclassical_estimation\u001b[0;34m(y, distribution, nfourier, xpoints)\u001b[0m\n\u001b[1;32m     30\u001b[0m     \u001b[0mcos_sum\u001b[0m \u001b[0;34m=\u001b[0m \u001b[0;32mlambda\u001b[0m \u001b[0mn\u001b[0m\u001b[0;34m:\u001b[0m \u001b[0mnp\u001b[0m\u001b[0;34m.\u001b[0m\u001b[0msum\u001b[0m\u001b[0;34m(\u001b[0m \u001b[0mnp\u001b[0m\u001b[0;34m.\u001b[0m\u001b[0mcos\u001b[0m\u001b[0;34m(\u001b[0m\u001b[0mn\u001b[0m\u001b[0;34m*\u001b[0m\u001b[0momega\u001b[0m\u001b[0;34m*\u001b[0m\u001b[0mxpoints\u001b[0m\u001b[0;34m)\u001b[0m \u001b[0;34m*\u001b[0m \u001b[0mdistribution_normalized\u001b[0m\u001b[0;34m)\u001b[0m\u001b[0;34m\u001b[0m\u001b[0;34m\u001b[0m\u001b[0m\n\u001b[1;32m     31\u001b[0m     \u001b[0msin_sum\u001b[0m \u001b[0;34m=\u001b[0m \u001b[0;32mlambda\u001b[0m \u001b[0mn\u001b[0m\u001b[0;34m:\u001b[0m \u001b[0mnp\u001b[0m\u001b[0;34m.\u001b[0m\u001b[0msum\u001b[0m\u001b[0;34m(\u001b[0m \u001b[0mnp\u001b[0m\u001b[0;34m.\u001b[0m\u001b[0msin\u001b[0m\u001b[0;34m(\u001b[0m\u001b[0mn\u001b[0m\u001b[0;34m*\u001b[0m\u001b[0momega\u001b[0m\u001b[0;34m*\u001b[0m\u001b[0mxpoints\u001b[0m\u001b[0;34m)\u001b[0m \u001b[0;34m*\u001b[0m \u001b[0mdistribution_normalized\u001b[0m\u001b[0;34m)\u001b[0m\u001b[0;34m\u001b[0m\u001b[0;34m\u001b[0m\u001b[0m\n\u001b[0;32m---> 32\u001b[0;31m     \u001b[0ma0\u001b[0m\u001b[0;34m,\u001b[0m \u001b[0ma\u001b[0m\u001b[0;34m,\u001b[0m \u001b[0mb\u001b[0m \u001b[0;34m=\u001b[0m \u001b[0mreal_coeffs\u001b[0m\u001b[0;34m(\u001b[0m\u001b[0my\u001b[0m\u001b[0;34m,\u001b[0m \u001b[0mnfourier\u001b[0m\u001b[0;34m)\u001b[0m\u001b[0;34m\u001b[0m\u001b[0;34m\u001b[0m\u001b[0m\n\u001b[0m\u001b[1;32m     33\u001b[0m     \u001b[0ms\u001b[0m \u001b[0;34m=\u001b[0m \u001b[0ma0\u001b[0m\u001b[0;34m/\u001b[0m\u001b[0;36m2\u001b[0m\u001b[0;34m\u001b[0m\u001b[0;34m\u001b[0m\u001b[0m\n\u001b[1;32m     34\u001b[0m     \u001b[0mfunc\u001b[0m \u001b[0;34m=\u001b[0m \u001b[0mnp\u001b[0m\u001b[0;34m.\u001b[0m\u001b[0mzeros_like\u001b[0m\u001b[0;34m(\u001b[0m\u001b[0my\u001b[0m\u001b[0;34m)\u001b[0m \u001b[0;34m+\u001b[0m \u001b[0ma0\u001b[0m\u001b[0;34m/\u001b[0m\u001b[0;36m2\u001b[0m\u001b[0;34m\u001b[0m\u001b[0;34m\u001b[0m\u001b[0m\n",
      "\u001b[0;31mNameError\u001b[0m: name 'real_coeffs' is not defined"
     ]
    }
   ],
   "source": [
    "\n",
    "\n",
    "nfourier=10\n",
    "nqubits = 3\n",
    "npoints = 2**nqubits\n",
    "xlower = -1\n",
    "xupper = 1\n",
    "xuu = 2\n",
    "xpoints = np.linspace(xlower, xupper, npoints) \n",
    "distribution = stats.uniform(xlower, xupper-xlower).pdf\n",
    "x = np.linspace(xlower, xupper, 400, endpoint=True) \n",
    "# func = lambda x: x\n",
    "# func_derivative = lambda x: 1\n",
    "# Func = periodic_extension(func, func_derivative, xlower, xupper, xuu)\n",
    "y = x\n",
    "\n",
    "s1 = classical_estimation(y, distribution, nfourier, xpoints)\n",
    "print('-----')\n",
    "s2 = sum_estimation(y, distribution, nfourier, xpoints)"
   ]
  },
  {
   "cell_type": "code",
   "execution_count": null,
   "id": "bb177e23-3e14-4634-8133-32daa55592b6",
   "metadata": {},
   "outputs": [],
   "source": [
    "s2"
   ]
  },
  {
   "cell_type": "code",
   "execution_count": null,
   "id": "11c1b549-c420-4562-a709-64736f584472",
   "metadata": {},
   "outputs": [],
   "source": [
    "s1"
   ]
  },
  {
   "cell_type": "code",
   "execution_count": null,
   "id": "16997f0a-d0af-450e-a03b-37e75780f22e",
   "metadata": {},
   "outputs": [],
   "source": [
    "\n",
    "\n",
    "\n",
    "\n"
   ]
  }
 ],
 "metadata": {
  "kernelspec": {
   "display_name": "quantum",
   "language": "python",
   "name": "quantum"
  },
  "language_info": {
   "codemirror_mode": {
    "name": "ipython",
    "version": 3
   },
   "file_extension": ".py",
   "mimetype": "text/x-python",
   "name": "python",
   "nbconvert_exporter": "python",
   "pygments_lexer": "ipython3",
   "version": "3.9.7"
  }
 },
 "nbformat": 4,
 "nbformat_minor": 5
}
